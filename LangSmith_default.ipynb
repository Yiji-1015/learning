{
 "cells": [
  {
   "cell_type": "code",
   "execution_count": 18,
   "metadata": {},
   "outputs": [
    {
     "data": {
      "text/plain": [
       "True"
      ]
     },
     "execution_count": 18,
     "metadata": {},
     "output_type": "execute_result"
    }
   ],
   "source": [
    "from dotenv import load_dotenv\n",
    "import os\n",
    "\n",
    "load_dotenv()"
   ]
  },
  {
   "cell_type": "code",
   "execution_count": 20,
   "metadata": {},
   "outputs": [
    {
     "name": "stdout",
     "output_type": "stream",
     "text": [
      "LangSmith 추적을 시작합니다.\n",
      "[프로젝트명]\n",
      "test\n"
     ]
    }
   ],
   "source": [
    "from langchain_teddynote import logging\n",
    "\n",
    "# API 키를 명시적으로 전달\n",
    "logging.langsmith(project_name=\"test\")\n",
    "# logging.langsmith(\"test\", set_enable=False)"
   ]
  },
  {
   "cell_type": "code",
   "execution_count": 21,
   "metadata": {},
   "outputs": [],
   "source": [
    "from langchain_teddynote.messages import stream_response\n",
    "from langchain_core.prompts import PromptTemplate"
   ]
  },
  {
   "cell_type": "code",
   "execution_count": 22,
   "metadata": {},
   "outputs": [
    {
     "data": {
      "text/plain": [
       "PromptTemplate(input_variables=['country'], input_types={}, partial_variables={}, template='{country}의 수도는 어디인가요?')"
      ]
     },
     "execution_count": 22,
     "metadata": {},
     "output_type": "execute_result"
    }
   ],
   "source": [
    "# template 정의\n",
    "template = \"{country}의 수도는 어디인가요?\"\n",
    "\n",
    "# from_template 메소드를 이용하여 PromptTemplate 객체 생성\n",
    "prompt_template = PromptTemplate.from_template(template)\n",
    "prompt_template"
   ]
  },
  {
   "cell_type": "code",
   "execution_count": 23,
   "metadata": {},
   "outputs": [
    {
     "data": {
      "text/plain": [
       "'대한민국의 수도는 어디인가요?'"
      ]
     },
     "execution_count": 23,
     "metadata": {},
     "output_type": "execute_result"
    }
   ],
   "source": [
    "# prompt 생성\n",
    "prompt = prompt_template.format(country=\"대한민국\")\n",
    "prompt"
   ]
  },
  {
   "cell_type": "code",
   "execution_count": 25,
   "metadata": {},
   "outputs": [],
   "source": [
    "from langchain_openai import ChatOpenAI\n",
    "\n",
    "model = ChatOpenAI(\n",
    "    model=\"gpt-4o-mini\",\n",
    "    max_tokens=2048,\n",
    "    temperature=0.1,\n",
    ")"
   ]
  },
  {
   "cell_type": "code",
   "execution_count": null,
   "metadata": {},
   "outputs": [],
   "source": [
    "prompt = PromptTemplate.from_template(\"{topic} 에 대해 쉽게 설명해주세요.\")\n",
    "model = ChatOpenAI()\n",
    "chain = prompt | model"
   ]
  },
  {
   "cell_type": "code",
   "execution_count": 29,
   "metadata": {},
   "outputs": [],
   "source": [
    "# input 딕셔너리에 주제를 '인공지능 모델의 학습 원리'으로 설정합니다.\n",
    "input = {\"topic\": \"인공지능 모델의 학습 원리\"}"
   ]
  },
  {
   "cell_type": "code",
   "execution_count": 30,
   "metadata": {},
   "outputs": [
    {
     "data": {
      "text/plain": [
       "AIMessage(content='인공지능 모델의 학습 원리는 데이터를 기반으로 모델이 일정한 규칙이나 패턴을 찾아내는 과정입니다. \\n\\n모델은 입력 데이터와 출력 데이터 사이의 관계를 학습하여, 주어진 입력에 대해 올바른 출력을 예측할 수 있도록 학습됩니다. 이때 모델은 초기에는 임의의 가중치와 편향을 가지고 시작하며, 학습을 거치면서 이 가중치와 편향을 조정해가며 더욱 정확한 예측을 하도록 학습합니다.\\n\\n주어진 데이터와 모델의 예측값과의 차이를 최소화하는 방향으로 학습을 진행하며, 이를 위해 손실 함수를 정의하여 모델이 얼마나 잘 예측했는지 측정합니다. 손실 함수를 최소화하는 방향으로 모델의 가중치와 편향을 업데이트하면서 반복적으로 학습을 진행합니다.\\n\\n이러한 학습 과정을 통해 모델은 주어진 데이터에 대해 정확한 예측을 하도록 학습되고, 새로운 데이터에 대해서도 유사한 패턴을 찾아내어 예측을 수행할 수 있게 됩니다.', additional_kwargs={'refusal': None}, response_metadata={'token_usage': {'completion_tokens': 399, 'prompt_tokens': 33, 'total_tokens': 432, 'completion_tokens_details': {'accepted_prediction_tokens': 0, 'audio_tokens': 0, 'reasoning_tokens': 0, 'rejected_prediction_tokens': 0}, 'prompt_tokens_details': {'audio_tokens': 0, 'cached_tokens': 0}}, 'model_name': 'gpt-3.5-turbo-0125', 'system_fingerprint': None, 'finish_reason': 'stop', 'logprobs': None}, id='run-8016d70f-08c6-4024-8108-dbb7303cf89d-0', usage_metadata={'input_tokens': 33, 'output_tokens': 399, 'total_tokens': 432, 'input_token_details': {'audio': 0, 'cache_read': 0}, 'output_token_details': {'audio': 0, 'reasoning': 0}})"
      ]
     },
     "execution_count": 30,
     "metadata": {},
     "output_type": "execute_result"
    }
   ],
   "source": [
    "# prompt 객체와 model 객체를 파이프(|) 연산자로 연결하고 invoke 메서드를 사용하여 input을 전달합니다.\n",
    "# 이를 통해 AI 모델이 생성한 메시지를 반환합니다.\n",
    "chain.invoke(input)"
   ]
  },
  {
   "cell_type": "code",
   "execution_count": 31,
   "metadata": {},
   "outputs": [
    {
     "name": "stdout",
     "output_type": "stream",
     "text": [
      "인공지능 모델의 학습 원리는 데이터를 입력으로 받아 이를 처리하여 원하는 결과를 출력하는 과정입니다. 이 모델은 초기에는 데이터를 입력 받고, 이를 분석하고 패턴을 학습하여 문제를 해결하는 방법을 습득합니다. 학습 과정에서 모델은 오차를 줄이기 위해 다양한 가중치를 조정하고 최적의 결과를 찾아내는 작업을 수행합니다. 모델은 학습 데이터를 계속 학습하면서 점차 더 정확한 결과를 출력할 수 있도록 성능을 향상시키게 됩니다. 이러한 방식으로 인공지능 모델은 데이터를 학습하여 필요한 작업을 수행하고 문제를 해결하는 것이 가능해집니다."
     ]
    }
   ],
   "source": [
    "# 스트리밍 출력을 위한 요청\n",
    "answer = chain.stream(input)\n",
    "# 스트리밍 출력\n",
    "stream_response(answer)"
   ]
  },
  {
   "cell_type": "code",
   "execution_count": 38,
   "metadata": {},
   "outputs": [
    {
     "name": "stdout",
     "output_type": "stream",
     "text": [
      "25.3\n",
      "Clear sky\n"
     ]
    }
   ],
   "source": [
    "from langchain.output_parsers import PydanticOutputParser\n",
    "from pydantic import BaseModel\n",
    "\n",
    "# 예: PydanticOutputParser를 사용하여 모델 출력을 Pydantic 객체로 변환\n",
    "class WeatherResponse(BaseModel):\n",
    "    temperature: float\n",
    "    description: str\n",
    "\n",
    "parser = PydanticOutputParser(pydantic_object=WeatherResponse)\n",
    "model_output = '{\"temperature\": 25.3, \"description\": \"Clear sky\"}'\n",
    "parsed_output = parser.parse(model_output)\n",
    "\n",
    "print(parsed_output.temperature)  # 25.3\n",
    "print(parsed_output.description)  # \"Clear sky\""
   ]
  },
  {
   "cell_type": "code",
   "execution_count": 39,
   "metadata": {},
   "outputs": [],
   "source": [
    "from langchain_core.output_parsers import StrOutputParser\n",
    "output_parser = StrOutputParser()"
   ]
  },
  {
   "cell_type": "code",
   "execution_count": 40,
   "metadata": {},
   "outputs": [],
   "source": [
    "# 프롬프트, 모델, 출력 파서를 연결하여 처리 체인을 구성합니다.\n",
    "chain = prompt | model | output_parser"
   ]
  },
  {
   "cell_type": "code",
   "execution_count": 41,
   "metadata": {},
   "outputs": [
    {
     "data": {
      "text/plain": [
       "'인공지능 모델의 학습 원리는 데이터를 통해 패턴을 학습하고 예측하는 과정을 말합니다. \\n\\n먼저, 모델은 훈련 데이터를 입력으로 받아 해당 데이터에 내재된 패턴이나 관계를 학습합니다. 이를 위해 모델은 입력 데이터와 이에 대응하는 출력 값을 비교하면서 오차를 줄여가는 과정을 거치게 됩니다. \\n\\n이러한 과정을 통해 모델은 입력 데이터의 특징을 파악하고 이를 기반으로 새로운 데이터에 대해 예측을 수행할 수 있게 됩니다. 이러한 학습 원리를 통해 인공지능 모델은 데이터를 이해하고 효율적으로 활용할 수 있게 되는 것입니다.'"
      ]
     },
     "execution_count": 41,
     "metadata": {},
     "output_type": "execute_result"
    }
   ],
   "source": [
    "# chain 객체의 invoke 메서드를 사용하여 input을 전달합니다.\n",
    "input = {\"topic\": \"인공지능 모델의 학습 원리\"}\n",
    "chain.invoke(input)"
   ]
  },
  {
   "cell_type": "code",
   "execution_count": 42,
   "metadata": {},
   "outputs": [
    {
     "name": "stdout",
     "output_type": "stream",
     "text": [
      "인공지능 모델의 학습 원리는 데이터를 이용하여 패턴을 학습하는 과정입니다. 먼저 모델은 입력 데이터를 받아들이고, 이 데이터를 분석하여 패턴을 찾습니다. 그리고 이러한 패턴을 기반으로 적절한 출력을 생성하도록 학습을 진행합니다. 모델은 학습 데이터를 반복적으로 분석하고 패턴을 강화하여 정확한 결과를 얻을 수 있도록 학습을 진행합니다. 이러한 과정을 통해 모델은 더 나은 예측이나 결정을 내릴 수 있게 되는 것이죠.요약하면, 인공지능 모델의 학습 원리는 데이터를 이용하여 패턴을 학습하는 과정입니다."
     ]
    }
   ],
   "source": [
    "# 스트리밍 출력을 위한 요청\n",
    "answer = chain.stream(input)\n",
    "# 스트리밍 출력\n",
    "stream_response(answer)"
   ]
  },
  {
   "cell_type": "code",
   "execution_count": 43,
   "metadata": {},
   "outputs": [],
   "source": [
    "template = \"\"\"\n",
    "당신은 영어를 가르치는 10년차 영어 선생님입니다. 상황에 [FORMAT]에 영어 회화를 작성해 주세요.\n",
    "\n",
    "상황:\n",
    "{question}\n",
    "\n",
    "FORMAT:\n",
    "- 영어 회화:\n",
    "- 한글 해석:\n",
    "\"\"\"\n",
    "\n",
    "# 프롬프트 템플릿을 이용하여 프롬프트를 생성합니다.\n",
    "prompt = PromptTemplate.from_template(template)\n",
    "\n",
    "# ChatOpenAI 챗모델을 초기화합니다.\n",
    "model = ChatOpenAI(model_name=\"gpt-4o-mini\")\n",
    "\n",
    "# 문자열 출력 파서를 초기화합니다.\n",
    "output_parser = StrOutputParser()"
   ]
  },
  {
   "cell_type": "code",
   "execution_count": 44,
   "metadata": {},
   "outputs": [
    {
     "name": "stdout",
     "output_type": "stream",
     "text": [
      "- 영어 회화:\n",
      "  - Waiter: Good evening! Welcome to our restaurant. How many people are in your party?\n",
      "  - You: Hi! It’s just me tonight.\n",
      "  - Waiter: Great! Please follow me to your table. Here’s the menu. Can I get you something to drink?\n",
      "  - You: Yes, I’d like a glass of water, please.\n",
      "  - Waiter: Of course! Are you ready to order your meal?\n",
      "  - You: Not yet, can I have a few more minutes?\n",
      "  - Waiter: Absolutely, take your time. Let me know if you have any questions about the menu.\n",
      "  - You: Thank you!\n",
      "  - (After a few minutes)\n",
      "  - You: I’m ready to order. I’d like the grilled chicken with a side salad, please.\n",
      "  - Waiter: Excellent choice! Would you like any dressing on your salad?\n",
      "  - You: Yes, I’ll have the balsamic vinaigrette.\n",
      "  - Waiter: Perfect! I’ll get that for you right away.\n",
      "\n",
      "- 한글 해석:\n",
      "  - 웨이터: 좋은 저녁입니다! 저희 식당에 오신 것을 환영합니다. 몇 분이세요?\n",
      "  - 당신: 안녕하세요! 오늘은 저 혼자입니다.\n",
      "  - 웨이터: 좋습니다! 이쪽으로 따르세요. 여기 메뉴입니다. 음료수는 무엇을 드릴까요?\n",
      "  - 당신: 네, 물 한 잔 부탁드려요.\n",
      "  - 웨이터: 물론입니다! 식사를 주문할 준비가 되셨나요?\n",
      "  - 당신: 아직 아닙니다. 몇 분만 더 주실 수 있나요?\n",
      "  - 웨이터: 물론입니다, 천천히 하세요. 메뉴에 대한 질문이 있으면 말씀해 주세요.\n",
      "  - 당신: 감사합니다!\n",
      "  - (잠시 후)\n",
      "  - 당신: 주문할게요. 구운 치킨과 사이드 샐러드 주세요.\n",
      "  - 웨이터: 좋은 선택입니다! 샐러드에 드레싱은 어떤 걸 원하시나요?\n",
      "  - 당신: 네, 발사믹 비네그레트를 주세요.\n",
      "  - 웨이터: 완벽합니다! 바로 가져다 드리겠습니다."
     ]
    }
   ],
   "source": [
    "# 체인을 구성합니다.\n",
    "chain = prompt | model | output_parser\n",
    "\n",
    "# 완성된 Chain을 실행하여 답변을 얻습니다.\n",
    "# 스트리밍 출력을 위한 요청\n",
    "answer = chain.stream({\"question\": \"저는 식당에 가서 음식을 주문하고 싶어요\"})\n",
    "# 스트리밍 출력\n",
    "stream_response(answer)"
   ]
  },
  {
   "cell_type": "code",
   "execution_count": null,
   "metadata": {},
   "outputs": [],
   "source": []
  },
  {
   "cell_type": "code",
   "execution_count": null,
   "metadata": {},
   "outputs": [],
   "source": []
  }
 ],
 "metadata": {
  "kernelspec": {
   "display_name": ".venv",
   "language": "python",
   "name": "python3"
  },
  "language_info": {
   "codemirror_mode": {
    "name": "ipython",
    "version": 3
   },
   "file_extension": ".py",
   "mimetype": "text/x-python",
   "name": "python",
   "nbconvert_exporter": "python",
   "pygments_lexer": "ipython3",
   "version": "3.11.9"
  }
 },
 "nbformat": 4,
 "nbformat_minor": 2
}
